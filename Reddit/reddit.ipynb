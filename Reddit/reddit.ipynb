{
 "cells": [
  {
   "cell_type": "code",
   "execution_count": 17,
   "metadata": {},
   "outputs": [
    {
     "data": {
      "text/html": [
       "<div>\n",
       "<style scoped>\n",
       "    .dataframe tbody tr th:only-of-type {\n",
       "        vertical-align: middle;\n",
       "    }\n",
       "\n",
       "    .dataframe tbody tr th {\n",
       "        vertical-align: top;\n",
       "    }\n",
       "\n",
       "    .dataframe thead th {\n",
       "        text-align: right;\n",
       "    }\n",
       "</style>\n",
       "<table border=\"1\" class=\"dataframe\">\n",
       "  <thead>\n",
       "    <tr style=\"text-align: right;\">\n",
       "      <th></th>\n",
       "      <th>id</th>\n",
       "      <th>author</th>\n",
       "      <th>created_utc</th>\n",
       "      <th>title</th>\n",
       "      <th>selftext</th>\n",
       "      <th>score</th>\n",
       "      <th>upvote_ratio</th>\n",
       "      <th>num_comments</th>\n",
       "      <th>url</th>\n",
       "    </tr>\n",
       "  </thead>\n",
       "  <tbody>\n",
       "    <tr>\n",
       "      <th>0</th>\n",
       "      <td>vdcl0</td>\n",
       "      <td>minerva_K</td>\n",
       "      <td>1340259437</td>\n",
       "      <td>is this thing on?</td>\n",
       "      <td>anybody awake?</td>\n",
       "      <td>3</td>\n",
       "      <td>NaN</td>\n",
       "      <td>2</td>\n",
       "      <td>http://www.reddit.com/r/Menopause/comments/vdc...</td>\n",
       "    </tr>\n",
       "    <tr>\n",
       "      <th>1</th>\n",
       "      <td>12bic1</td>\n",
       "      <td>[deleted]</td>\n",
       "      <td>1351567414</td>\n",
       "      <td>Turned 40 last July and started have hot flash...</td>\n",
       "      <td>My mother said she went into full blown menopa...</td>\n",
       "      <td>1</td>\n",
       "      <td>NaN</td>\n",
       "      <td>0</td>\n",
       "      <td>http://www.reddit.com/r/Menopause/comments/12b...</td>\n",
       "    </tr>\n",
       "    <tr>\n",
       "      <th>2</th>\n",
       "      <td>13fiwk</td>\n",
       "      <td>[deleted]</td>\n",
       "      <td>1353294608</td>\n",
       "      <td>winter shoes for mom</td>\n",
       "      <td>my mom has osteoarthritis and i want to get he...</td>\n",
       "      <td>1</td>\n",
       "      <td>NaN</td>\n",
       "      <td>0</td>\n",
       "      <td>http://www.reddit.com/r/Menopause/comments/13f...</td>\n",
       "    </tr>\n",
       "    <tr>\n",
       "      <th>3</th>\n",
       "      <td>15jjqu</td>\n",
       "      <td>oldmanjoe</td>\n",
       "      <td>1356649991</td>\n",
       "      <td>Sex after Menopause?</td>\n",
       "      <td>My wife went through this \"wonderful\" change, ...</td>\n",
       "      <td>7</td>\n",
       "      <td>NaN</td>\n",
       "      <td>3</td>\n",
       "      <td>http://www.reddit.com/r/Menopause/comments/15j...</td>\n",
       "    </tr>\n",
       "    <tr>\n",
       "      <th>4</th>\n",
       "      <td>19wwpb</td>\n",
       "      <td>[deleted]</td>\n",
       "      <td>1362754970</td>\n",
       "      <td>How does one live with someone going through M...</td>\n",
       "      <td>My wife (early 50s and has been diagnosed by h...</td>\n",
       "      <td>3</td>\n",
       "      <td>NaN</td>\n",
       "      <td>6</td>\n",
       "      <td>http://www.reddit.com/r/Menopause/comments/19w...</td>\n",
       "    </tr>\n",
       "    <tr>\n",
       "      <th>...</th>\n",
       "      <td>...</td>\n",
       "      <td>...</td>\n",
       "      <td>...</td>\n",
       "      <td>...</td>\n",
       "      <td>...</td>\n",
       "      <td>...</td>\n",
       "      <td>...</td>\n",
       "      <td>...</td>\n",
       "      <td>...</td>\n",
       "    </tr>\n",
       "    <tr>\n",
       "      <th>11597</th>\n",
       "      <td>1004teb</td>\n",
       "      <td>Rosie4268</td>\n",
       "      <td>1672524104</td>\n",
       "      <td>I'm so over this moodiness</td>\n",
       "      <td>I'm in peri and have been for some time. Moodi...</td>\n",
       "      <td>33</td>\n",
       "      <td>0.96</td>\n",
       "      <td>20</td>\n",
       "      <td>https://www.reddit.com/r/Menopause/comments/10...</td>\n",
       "    </tr>\n",
       "    <tr>\n",
       "      <th>11598</th>\n",
       "      <td>10058dp</td>\n",
       "      <td>pumaboxbug2</td>\n",
       "      <td>1672525367</td>\n",
       "      <td>How can we make 2023 kinder to us than 2022?</td>\n",
       "      <td>What are non-medicated ways to ease the depres...</td>\n",
       "      <td>14</td>\n",
       "      <td>1.00</td>\n",
       "      <td>17</td>\n",
       "      <td>https://www.reddit.com/r/Menopause/comments/10...</td>\n",
       "    </tr>\n",
       "    <tr>\n",
       "      <th>11599</th>\n",
       "      <td>1005nki</td>\n",
       "      <td>Street-Lab-9570</td>\n",
       "      <td>1672526636</td>\n",
       "      <td>Hot flashes</td>\n",
       "      <td>I'm 54 post meno and taking estrodot 75 mg and...</td>\n",
       "      <td>3</td>\n",
       "      <td>1.00</td>\n",
       "      <td>3</td>\n",
       "      <td>https://www.reddit.com/r/Menopause/comments/10...</td>\n",
       "    </tr>\n",
       "    <tr>\n",
       "      <th>11600</th>\n",
       "      <td>1006cfo</td>\n",
       "      <td>One-Reflection-6779</td>\n",
       "      <td>1672528757</td>\n",
       "      <td>Perimenopause - change in vaginal odor?</td>\n",
       "      <td>Hi everyone,\\n\\nHas anyone else noticed a chan...</td>\n",
       "      <td>23</td>\n",
       "      <td>0.97</td>\n",
       "      <td>24</td>\n",
       "      <td>https://www.reddit.com/r/Menopause/comments/10...</td>\n",
       "    </tr>\n",
       "    <tr>\n",
       "      <th>11601</th>\n",
       "      <td>10070cy</td>\n",
       "      <td>cybillia</td>\n",
       "      <td>1672530884</td>\n",
       "      <td>Facial hair growth slowed</td>\n",
       "      <td>This kind of a weird question. A couple of mon...</td>\n",
       "      <td>3</td>\n",
       "      <td>1.00</td>\n",
       "      <td>3</td>\n",
       "      <td>https://www.reddit.com/r/Menopause/comments/10...</td>\n",
       "    </tr>\n",
       "  </tbody>\n",
       "</table>\n",
       "<p>11602 rows × 9 columns</p>\n",
       "</div>"
      ],
      "text/plain": [
       "            id               author  created_utc  \\\n",
       "0        vdcl0            minerva_K   1340259437   \n",
       "1       12bic1            [deleted]   1351567414   \n",
       "2       13fiwk            [deleted]   1353294608   \n",
       "3       15jjqu            oldmanjoe   1356649991   \n",
       "4       19wwpb            [deleted]   1362754970   \n",
       "...        ...                  ...          ...   \n",
       "11597  1004teb            Rosie4268   1672524104   \n",
       "11598  10058dp          pumaboxbug2   1672525367   \n",
       "11599  1005nki      Street-Lab-9570   1672526636   \n",
       "11600  1006cfo  One-Reflection-6779   1672528757   \n",
       "11601  10070cy             cybillia   1672530884   \n",
       "\n",
       "                                                   title  \\\n",
       "0                                      is this thing on?   \n",
       "1      Turned 40 last July and started have hot flash...   \n",
       "2                                   winter shoes for mom   \n",
       "3                                   Sex after Menopause?   \n",
       "4      How does one live with someone going through M...   \n",
       "...                                                  ...   \n",
       "11597                         I'm so over this moodiness   \n",
       "11598       How can we make 2023 kinder to us than 2022?   \n",
       "11599                                        Hot flashes   \n",
       "11600            Perimenopause - change in vaginal odor?   \n",
       "11601                          Facial hair growth slowed   \n",
       "\n",
       "                                                selftext  score  upvote_ratio  \\\n",
       "0                                         anybody awake?      3           NaN   \n",
       "1      My mother said she went into full blown menopa...      1           NaN   \n",
       "2      my mom has osteoarthritis and i want to get he...      1           NaN   \n",
       "3      My wife went through this \"wonderful\" change, ...      7           NaN   \n",
       "4      My wife (early 50s and has been diagnosed by h...      3           NaN   \n",
       "...                                                  ...    ...           ...   \n",
       "11597  I'm in peri and have been for some time. Moodi...     33          0.96   \n",
       "11598  What are non-medicated ways to ease the depres...     14          1.00   \n",
       "11599  I'm 54 post meno and taking estrodot 75 mg and...      3          1.00   \n",
       "11600  Hi everyone,\\n\\nHas anyone else noticed a chan...     23          0.97   \n",
       "11601  This kind of a weird question. A couple of mon...      3          1.00   \n",
       "\n",
       "       num_comments                                                url  \n",
       "0                 2  http://www.reddit.com/r/Menopause/comments/vdc...  \n",
       "1                 0  http://www.reddit.com/r/Menopause/comments/12b...  \n",
       "2                 0  http://www.reddit.com/r/Menopause/comments/13f...  \n",
       "3                 3  http://www.reddit.com/r/Menopause/comments/15j...  \n",
       "4                 6  http://www.reddit.com/r/Menopause/comments/19w...  \n",
       "...             ...                                                ...  \n",
       "11597            20  https://www.reddit.com/r/Menopause/comments/10...  \n",
       "11598            17  https://www.reddit.com/r/Menopause/comments/10...  \n",
       "11599             3  https://www.reddit.com/r/Menopause/comments/10...  \n",
       "11600            24  https://www.reddit.com/r/Menopause/comments/10...  \n",
       "11601             3  https://www.reddit.com/r/Menopause/comments/10...  \n",
       "\n",
       "[11602 rows x 9 columns]"
      ]
     },
     "execution_count": 17,
     "metadata": {},
     "output_type": "execute_result"
    }
   ],
   "source": [
    "import pandas as pd\n",
    "import numpy as np\n",
    "import json\n",
    "import re\n",
    "from datetime import datetime\n",
    "import seaborn as sns\n",
    "import matplotlib.pyplot as plt\n",
    "\n",
    "# # Load the JSON file\n",
    "# with open('reddit_data/reddit_submissions.json', 'r') as f:\n",
    "#     data = json.load(f)\n",
    "\n",
    "# submissions = data['submissions']\n",
    "\n",
    "# # Create DataFrame from the submissions data\n",
    "# df = pd.DataFrame(submissions)\n",
    "\n",
    "# df = df[[\"id\", \"author\", \"created_utc\", \"title\", \"selftext\", \"score\", \"upvote_ratio\", \"num_comments\", \"num_crossposts\", \"url\"]]\n",
    "\n",
    "# df.to_csv(\"reduced_reddit_posts.csv\", index=False)\n",
    "\n",
    "df = pd.read_csv(\"reduced_reddit_posts.csv\")\n",
    "\n",
    "df = df[(df[\"selftext\"] != '') & (df[\"selftext\"] != \"[removed]\") & (df[\"selftext\"] != \"[deleted]\")].dropna(subset=[\"selftext\"]).reset_index(drop=True)\n",
    "df = df.drop(\"num_crossposts\", axis=1)\n",
    "df\n"
   ]
  },
  {
   "cell_type": "code",
   "execution_count": 18,
   "metadata": {},
   "outputs": [],
   "source": [
    "def epoch_to_date(epoch_time):\n",
    "    \"\"\"\n",
    "    Convert epoch time to datetime object with only year, month, and day.\n",
    "\n",
    "    :param epoch_time: Epoch time in seconds\n",
    "    :type epoch_time: int or float\n",
    "    :return: Date string in the format 'YYYY-MM-DD'\n",
    "    :rtype: str\n",
    "    \"\"\"\n",
    "    dt = datetime.fromtimestamp(epoch_time)\n",
    "    return dt.strftime('%Y-%m-%d')\n",
    "\n",
    "df[\"created_utc\"] = df[\"created_utc\"].apply(epoch_to_date)"
   ]
  },
  {
   "cell_type": "code",
   "execution_count": 19,
   "metadata": {},
   "outputs": [],
   "source": [
    "# extract age information\n",
    "def extract_age(text):\n",
    "    # Regular expression pattern to extract age information\n",
    "    age_pattern = r\"(?:\\b(?:I\\s*am|I'?m|am|I'?m\\s*at|she'?s|she\\s*is|age|aged|turn|turning|turned|early|mid|late)\\b\\s*(\\d{2})\\s*(?:years?\\s*old|yrs?\\s*old|y/o|s|yo|f)?\\b|\\b(\\d{2})\\s*(?:years?\\s*old|yrs?\\s*old|y/o|f)\\b)\"\n",
    "    match = re.findall(age_pattern, text, re.IGNORECASE)\n",
    "    if match:\n",
    "        maximum = int(max(max(match)))\n",
    "\n",
    "        if maximum < 15 or maximum > 85:\n",
    "            return None\n",
    "\n",
    "        return maximum\n",
    "    else:\n",
    "        return None\n",
    "\n",
    "\n",
    "df['title_age'] = df['title'].apply(lambda x: extract_age(x) if pd.notnull(x) else None)\n",
    "df['selftext_age'] = df['selftext'].apply(lambda x: extract_age(x) if pd.notnull(x) else None)\n",
    "\n",
    "# Compare age information from title and selftext, take the larger value\n",
    "def choose_age(row):\n",
    "    if pd.notnull(row['title_age']) and pd.notnull(row['selftext_age']):\n",
    "        return max(row['title_age'], row['selftext_age'])\n",
    "    elif pd.notnull(row['title_age']):\n",
    "        return row['title_age']\n",
    "    elif pd.notnull(row['selftext_age']):\n",
    "        return row['selftext_age']\n",
    "    else:\n",
    "        return None\n",
    "\n",
    "# Create 'age' column with the larger age value from title or selftext\n",
    "df['age'] = df.apply(choose_age, axis=1)\n",
    "\n",
    "# Drop intermediate columns\n",
    "df.drop(['title_age', 'selftext_age'], axis=1, inplace=True)\n",
    "\n",
    "df[\"age\"] = df[\"age\"].fillna(np.nan)\n"
   ]
  },
  {
   "cell_type": "code",
   "execution_count": 20,
   "metadata": {},
   "outputs": [],
   "source": [
    "def find_perimenopause(text):\n",
    "\n",
    "    # Define the regex pattern to search for perimenopause and postmenopause mentions\n",
    "    menopause_pattern = r'\\b((peri|pre)[- ]?(menop(ausal|ause))?)\\b'\n",
    "    \n",
    "    # Find all matches of the pattern in the text\n",
    "    match = re.search(menopause_pattern, text, re.IGNORECASE)\n",
    "    \n",
    "    return bool(match)\n",
    "\n",
    "\n",
    "df['perimenopause'] = df['selftext'].apply(find_perimenopause) | df[\"title\"].apply(find_perimenopause)\n"
   ]
  },
  {
   "cell_type": "code",
   "execution_count": 21,
   "metadata": {},
   "outputs": [],
   "source": [
    "def find_postmenopause(text):\n",
    "\n",
    "    # Define the regex pattern to search for perimenopause and postmenopause mentions\n",
    "    menopause_pattern = r'\\b((post)[- ]?(menop(ausal|ause))|after\\s+men(?:opause)?)\\b|hyster'\n",
    "    \n",
    "    # Find all matches of the pattern in the text\n",
    "    match = re.search(menopause_pattern, text, re.IGNORECASE)\n",
    "    \n",
    "    return bool(match)\n",
    "\n",
    "def check_both_menopause(row):\n",
    "    if row['perimenopause'] and row['postmenopause']:\n",
    "        row['perimenopause'] = False\n",
    "    return row\n",
    "\n",
    "df['postmenopause'] = df['selftext'].apply(find_postmenopause) | df[\"title\"].apply(find_postmenopause)\n",
    "df = df.apply(check_both_menopause, axis=1)"
   ]
  },
  {
   "cell_type": "code",
   "execution_count": 22,
   "metadata": {},
   "outputs": [],
   "source": [
    "def find_menopause_mention(text):\n",
    "    match = re.search(r\"menopause\", text, re.IGNORECASE)\n",
    "\n",
    "    return bool(match)\n",
    "\n",
    "def check_postmenopause(row):\n",
    "    if row['postmenopause']:\n",
    "        row[\"menopause_transition\"] = False\n",
    "    return row\n",
    "\n",
    "df[\"menopause_transition\"] = df[\"selftext\"].apply(find_menopause_mention) | df[\"title\"].apply(find_menopause_mention)\n",
    "df = df.apply(check_postmenopause, axis=1)"
   ]
  },
  {
   "cell_type": "code",
   "execution_count": 23,
   "metadata": {},
   "outputs": [],
   "source": [
    "# hot flashes or night sweats\n",
    "def search_hot_flashes(text):\n",
    "    # Regular expression pattern to search for variations of hot flashes\n",
    "    hot_flashes_pattern = r'\\b(?:hot\\s*flashes?|hot\\s*flash?|flash|flashes|hot|sweat|sweating|sweats|heat)'\n",
    "    match = re.search(hot_flashes_pattern, text, re.IGNORECASE)\n",
    "    if match:\n",
    "        return True\n",
    "    else:\n",
    "        return False\n",
    "\n",
    "df['hot_flashes'] = df['title'].apply(search_hot_flashes) | df['selftext'].apply(search_hot_flashes)"
   ]
  },
  {
   "cell_type": "code",
   "execution_count": 24,
   "metadata": {},
   "outputs": [],
   "source": [
    "def search_night_sweats(text):\n",
    "    night_sweats_pattern = r\"\\bnight\\s*sweats?\"\n",
    "    match = re.search(night_sweats_pattern, text, re.IGNORECASE)\n",
    "    return bool(match)\n",
    "\n",
    "df[\"night_sweats\"] = df['title'].apply(search_night_sweats) | df['selftext'].apply(search_night_sweats)\n"
   ]
  },
  {
   "cell_type": "code",
   "execution_count": 25,
   "metadata": {},
   "outputs": [],
   "source": [
    "# sleeping issues, insomnia\n",
    "def sleep_disorder(text):\n",
    "    pattern = r'sleep(?:ing)?|insomni(?:a|ac)'\n",
    "    \n",
    "    # Search for the pattern in the text\n",
    "    matches = re.findall(pattern, text, re.IGNORECASE)\n",
    "    \n",
    "    # Return True if any match is found, else False\n",
    "    return bool(matches)\n",
    "\n",
    "df[\"sleep_disorder\"] = df['selftext'].apply(sleep_disorder) | df[\"title\"].apply(sleep_disorder)"
   ]
  },
  {
   "cell_type": "code",
   "execution_count": 26,
   "metadata": {},
   "outputs": [],
   "source": [
    "# Search for mentions of depression\n",
    "def depression(text):\n",
    "    \n",
    "    # Define the regex pattern to search for mentions of depression\n",
    "    pattern = r'\\bdepres'\n",
    "    \n",
    "    # Search for the pattern in the text\n",
    "    matches = re.findall(pattern, text, re.IGNORECASE)\n",
    "    \n",
    "    # Return True if any match is found, else False\n",
    "    return bool(matches)\n",
    "\n",
    "df[\"depression\"] = df['selftext'].apply(depression) | df[\"title\"].apply(depression)"
   ]
  },
  {
   "cell_type": "code",
   "execution_count": 27,
   "metadata": {},
   "outputs": [],
   "source": [
    "# Search for mentions of anxiety\n",
    "def anxiety(text):\n",
    "    \n",
    "    # Define the regex pattern to search for mentions of anxiety\n",
    "    pattern = r'\\banxi'\n",
    "    \n",
    "    # Search for the pattern in the text\n",
    "    matches = re.findall(pattern, text, re.IGNORECASE)\n",
    "    \n",
    "    # Return True if any match is found, else False\n",
    "    return bool(matches)\n",
    "\n",
    "df[\"anxiety\"] = df['selftext'].apply(anxiety) | df[\"title\"].apply(anxiety)"
   ]
  },
  {
   "cell_type": "code",
   "execution_count": 28,
   "metadata": {},
   "outputs": [],
   "source": [
    "# Search for mentions of mood problems\n",
    "def mood(text):\n",
    "    \n",
    "    # Define the regex pattern to search for mentions of anxiety\n",
    "    pattern = r'\\bmood|rage|raging|bitch|suici|emotion'\n",
    "    \n",
    "    # Search for the pattern in the text\n",
    "    matches = re.search(pattern, text, re.IGNORECASE)\n",
    "    \n",
    "    # Return True if any match is found, else False\n",
    "    return bool(matches)\n",
    "\n",
    "df[\"mood_problems\"] = df['selftext'].apply(mood) | df[\"title\"].apply(mood)"
   ]
  },
  {
   "cell_type": "code",
   "execution_count": 29,
   "metadata": {},
   "outputs": [],
   "source": [
    "def sexual_activity(text):\n",
    "    pattern = r'\\bsex|orgasm|libido'\n",
    "\n",
    "     # Search for the pattern in the text\n",
    "    matches = re.findall(pattern, text, re.IGNORECASE)\n",
    "    \n",
    "    # Return True if any match is found, else False\n",
    "    return bool(matches)\n",
    "\n",
    "df[\"sexual_problems\"] = df['selftext'].apply(sexual_activity) | df[\"title\"].apply(sexual_activity)"
   ]
  },
  {
   "cell_type": "code",
   "execution_count": 30,
   "metadata": {},
   "outputs": [],
   "source": [
    "def vaginal_dryness(text):\n",
    "    vag_pattern = r'\\bvagin'\n",
    "    dry_pattern = r'\\bdry|burn|itch|irrit'\n",
    "     # Search for the pattern in the text\n",
    "    \n",
    "    # Return True if any match is found, else False\n",
    "    return bool(re.search(vag_pattern, text, re.IGNORECASE) and re.search(dry_pattern, text, re.IGNORECASE))\n",
    "\n",
    "df[\"vaginal_dryness\"] = df['selftext'].apply(vaginal_dryness) | df[\"title\"].apply(vaginal_dryness)"
   ]
  },
  {
   "cell_type": "code",
   "execution_count": 31,
   "metadata": {},
   "outputs": [],
   "source": [
    "def aches_pains(text):\n",
    "    pattern = r\"\\bpain|ach|hurt|joint|arthri\"\n",
    "\n",
    "    matches = re.findall(pattern, text, re.IGNORECASE)\n",
    "    \n",
    "    # Return True if any match is found, else False\n",
    "    return bool(matches)\n",
    "\n",
    "df[\"aches_and_pains\"] = df['selftext'].apply(aches_pains) | df[\"title\"].apply(aches_pains)    "
   ]
  },
  {
   "cell_type": "code",
   "execution_count": 32,
   "metadata": {},
   "outputs": [],
   "source": [
    "def palpitations(text):\n",
    "    \n",
    "    # Define the regex pattern to search for mentions of anxiety\n",
    "    pattern = r'\\bpalpit'\n",
    "    \n",
    "    # Search for the pattern in the text\n",
    "    matches = re.findall(pattern, text, re.IGNORECASE)\n",
    "    \n",
    "    # Return True if any match is found, else False\n",
    "    return bool(matches)\n",
    "\n",
    "df[\"palpitations\"] = df['selftext'].apply(palpitations) | df[\"title\"].apply(palpitations)"
   ]
  },
  {
   "cell_type": "code",
   "execution_count": 33,
   "metadata": {},
   "outputs": [],
   "source": [
    "def skin_problems(text):\n",
    "    pattern = r'\\bskin|acne|sag|wrinkle'\n",
    "\n",
    "    return bool(re.search(pattern, text, re.IGNORECASE))\n",
    "\n",
    "df[\"skin_problems\"] = df['selftext'].apply(skin_problems) | df[\"title\"].apply(skin_problems)"
   ]
  },
  {
   "cell_type": "code",
   "execution_count": 34,
   "metadata": {},
   "outputs": [],
   "source": [
    "def bladder_control_problems(text):\n",
    "    pattern = r\"\\bpee|bladder|urine\"\n",
    "\n",
    "    return bool(re.search(pattern, text, re.IGNORECASE))\n",
    "\n",
    "df[\"bladder_control_problems\"] = df['selftext'].apply(bladder_control_problems) | df[\"title\"].apply(bladder_control_problems)"
   ]
  },
  {
   "cell_type": "code",
   "execution_count": 35,
   "metadata": {},
   "outputs": [],
   "source": [
    "def heavy_irregular_periods(text):\n",
    "    # Define the regex pattern to search for \"period\" and \"heavy\" in any order\n",
    "    period_pattern = r\"\\bperiod|bleed|bled|blood|cycle|clot\"\n",
    "    period_match = re.search(period_pattern, text, re.IGNORECASE)\n",
    "    \n",
    "    # heavy_irreg_pattern = r\"\\bheav|irreg\"\n",
    "    # heavy_irreg_match = re.search(heavy_irreg_pattern, text, re.IGNORECASE)\n",
    "    # Check if the pattern is found in the text\n",
    "\n",
    "    return bool(period_match)\n",
    "\n",
    "df[\"heavy/irregular_periods\"] = df[\"selftext\"].apply(heavy_irregular_periods) | df[\"title\"].apply(heavy_irregular_periods)"
   ]
  },
  {
   "cell_type": "code",
   "execution_count": 36,
   "metadata": {},
   "outputs": [],
   "source": [
    "def brain_fog(text):\n",
    "    pattern = r\"\\bbrain\\s*fog|forget\"\n",
    "\n",
    "    matches = re.search(pattern, text, re.IGNORECASE)\n",
    "    \n",
    "    # Return True if any match is found, else False\n",
    "    return bool(matches)\n",
    "\n",
    "df[\"brain_fog\"] = df['selftext'].apply(brain_fog) | df[\"title\"].apply(brain_fog)"
   ]
  },
  {
   "cell_type": "code",
   "execution_count": 37,
   "metadata": {},
   "outputs": [],
   "source": [
    "def weight_gain(text):\n",
    "    pattern = r\"\\bweight\"\n",
    "\n",
    "    matches = re.search(pattern, text, re.IGNORECASE)\n",
    "    \n",
    "    # Return True if any match is found, else False\n",
    "    return bool(matches)\n",
    "\n",
    "df[\"weight_gain\"] = df['selftext'].apply(weight_gain) | df[\"title\"].apply(weight_gain)"
   ]
  },
  {
   "cell_type": "code",
   "execution_count": 38,
   "metadata": {},
   "outputs": [],
   "source": [
    "def hormone(text):\n",
    "    pattern = r\"\\b(patch|dhea|hrt|estrace|estradiol|estro|estriol|progesterone|testo|steroid|hormone\\s*repl|hormone\\s*thera)\"\n",
    "\n",
    "    matches = re.search(pattern, text, re.IGNORECASE)\n",
    "    \n",
    "    # Return True if any match is found, else False\n",
    "    return bool(matches)\n",
    "df[\"hormone_therapy\"] = df['selftext'].apply(hormone) | df[\"title\"].apply(hormone)"
   ]
  },
  {
   "cell_type": "code",
   "execution_count": 39,
   "metadata": {},
   "outputs": [],
   "source": [
    "def antidepressants(text):\n",
    "    pattern = r\"\\b(anti)[- ]?(depress)|ssri|snri|zoloft|prozac|paxil|paroxen|pexeva|celexa|lexapro|Cymbalta|Drizalma|effexor|Pristiq|fetzima|venlafax\"\n",
    "\n",
    "    matches = re.findall(pattern, text, re.IGNORECASE)\n",
    "    \n",
    "    # Return True if any match is found, else False\n",
    "    return bool(matches)\n",
    "df[\"antidepressants\"] = df['selftext'].apply(antidepressants) | df[\"title\"].apply(antidepressants)"
   ]
  },
  {
   "cell_type": "code",
   "execution_count": 40,
   "metadata": {},
   "outputs": [],
   "source": [
    "def anticonvulsants(text):\n",
    "    pattern = r\"\\b(anti)[- ]?(convul|epilep|seiz)|gabapentin|gralise|neurontin|horizant\"\n",
    "    matches = re.findall(pattern, text, re.IGNORECASE)\n",
    "    return bool(matches)\n",
    "\n",
    "df[\"anticonvulsants\"] = df['selftext'].apply(anticonvulsants) | df[\"title\"].apply(anticonvulsants)"
   ]
  },
  {
   "cell_type": "code",
   "execution_count": 41,
   "metadata": {},
   "outputs": [],
   "source": [
    "def estradiol(text):\n",
    "    pattern = r\"\\b(estro|estriol|estra)\"\n",
    "    matches = re.findall(pattern, text, re.IGNORECASE)\n",
    "    return bool(matches)\n",
    "\n",
    "df[\"estradiol\"] = df['selftext'].apply(estradiol) | df[\"title\"].apply(estradiol)"
   ]
  },
  {
   "cell_type": "code",
   "execution_count": 42,
   "metadata": {},
   "outputs": [],
   "source": [
    "def progestin(text):\n",
    "    pattern = r\"\\b(proges|drospirenone)\"\n",
    "    return bool(re.search(pattern, text, re.IGNORECASE))\n",
    "\n",
    "df[\"progestin\"] = df['selftext'].apply(progestin) | df[\"title\"].apply(progestin)"
   ]
  },
  {
   "cell_type": "code",
   "execution_count": 43,
   "metadata": {},
   "outputs": [],
   "source": [
    "def nk3(text):\n",
    "    pattern = r\"\\b(feozline|nk3|neurokinin)\"\n",
    "    return bool(re.search(pattern, text, re.IGNORECASE))\n",
    "\n",
    "df[\"nk3\"] = df['selftext'].apply(nk3) | df[\"title\"].apply(nk3)"
   ]
  },
  {
   "cell_type": "code",
   "execution_count": 44,
   "metadata": {},
   "outputs": [],
   "source": [
    "def vitamins(text):\n",
    "    pattern = r\"\\bvitamin\"\n",
    "\n",
    "    matches = re.search(pattern, text, re.IGNORECASE)\n",
    "    \n",
    "    # Return True if any match is found, else False\n",
    "    return bool(matches)\n",
    "df[\"vitamins\"] = df['selftext'].apply(vitamins) | df[\"title\"].apply(vitamins)"
   ]
  },
  {
   "cell_type": "code",
   "execution_count": 45,
   "metadata": {},
   "outputs": [],
   "source": [
    "def exercise(text):\n",
    "    pattern = r\"\\bexerci\"\n",
    "\n",
    "    matches = re.search(pattern, text, re.IGNORECASE)\n",
    "    \n",
    "    # Return True if any match is found, else False\n",
    "    return bool(matches)\n",
    "df[\"exercise\"] = df['selftext'].apply(exercise) | df[\"title\"].apply(exercise)"
   ]
  },
  {
   "cell_type": "code",
   "execution_count": 46,
   "metadata": {},
   "outputs": [
    {
     "name": "stdout",
     "output_type": "stream",
     "text": [
      "heavy/irregular_periods     4584\n",
      "hot_flashes                 3296\n",
      "aches_and_pains             2823\n",
      "sleep_disorder              2022\n",
      "mood_problems               1950\n",
      "anxiety                     1433\n",
      "sexual_problems             1195\n",
      "skin_problems               1137\n",
      "weight_gain                 1056\n",
      "depression                   970\n",
      "night_sweats                 753\n",
      "brain_fog                    659\n",
      "vaginal_dryness              370\n",
      "bladder_control_problems     366\n",
      "palpitations                 171\n",
      "dtype: object\n"
     ]
    },
    {
     "name": "stderr",
     "output_type": "stream",
     "text": [
      "/var/folders/t4/wdfv31vd0s5cfyh9tw80_2lw0000gn/T/ipykernel_7747/2007686886.py:8: FutureWarning: \n",
      "\n",
      "Passing `palette` without assigning `hue` is deprecated and will be removed in v0.14.0. Assign the `y` variable to `hue` and set `legend=False` for the same effect.\n",
      "\n",
      "  sns.barplot(y=true_counts_sorted.index, x=true_counts_sorted.values, palette='pastel')\n"
     ]
    },
    {
     "data": {
      "text/plain": [
       "Text(0, 0.5, 'Symptom')"
      ]
     },
     "execution_count": 46,
     "metadata": {},
     "output_type": "execute_result"
    },
    {
     "data": {
      "image/png": "[encoded data removed]",
      "text/plain": [
       "<Figure size 1000x600 with 1 Axes>"
      ]
     },
     "metadata": {},
     "output_type": "display_data"
    }
   ],
   "source": [
    "# Frequency of symptoms\n",
    "symptoms = df.loc[:,'hot_flashes':\"weight_gain\"]\n",
    "true_counts = symptoms[symptoms].sum()\n",
    "true_counts_sorted = true_counts.sort_values(ascending=False)\n",
    "print(true_counts_sorted)\n",
    "\n",
    "plt.figure(figsize=(10, 6))\n",
    "sns.barplot(y=true_counts_sorted.index, x=true_counts_sorted.values, palette='pastel')\n",
    "plt.ylabel(\"Symptom\")"
   ]
  },
  {
   "cell_type": "code",
   "execution_count": 47,
   "metadata": {},
   "outputs": [
    {
     "name": "stdout",
     "output_type": "stream",
     "text": [
      "Index(['id', 'author', 'created_utc', 'title', 'selftext', 'score',\n",
      "       'upvote_ratio', 'num_comments', 'url', 'age', 'perimenopause',\n",
      "       'postmenopause', 'menopause_transition', 'hot_flashes', 'night_sweats',\n",
      "       'sleep_disorder', 'depression', 'anxiety', 'mood_problems',\n",
      "       'sexual_problems', 'vaginal_dryness', 'aches_and_pains', 'palpitations',\n",
      "       'skin_problems', 'bladder_control_problems', 'heavy/irregular_periods',\n",
      "       'brain_fog', 'weight_gain', 'hormone_therapy', 'antidepressants',\n",
      "       'anticonvulsants', 'estradiol', 'progestin', 'nk3', 'vitamins',\n",
      "       'exercise'],\n",
      "      dtype='object')\n"
     ]
    },
    {
     "name": "stderr",
     "output_type": "stream",
     "text": [
      "/var/folders/t4/wdfv31vd0s5cfyh9tw80_2lw0000gn/T/ipykernel_7747/4215441848.py:5: FutureWarning: \n",
      "\n",
      "Passing `palette` without assigning `hue` is deprecated and will be removed in v0.14.0. Assign the `y` variable to `hue` and set `legend=False` for the same effect.\n",
      "\n",
      "  sns.barplot(y=medication_counts.index, x=medication_counts.values, palette='pastel')\n"
     ]
    },
    {
     "data": {
      "text/plain": [
       "Text(0, 0.5, 'medication')"
      ]
     },
     "execution_count": 47,
     "metadata": {},
     "output_type": "execute_result"
    },
    {
     "data": {
      "image/png": "[encoded data removed]",
      "text/plain": [
       "<Figure size 640x480 with 1 Axes>"
      ]
     },
     "metadata": {},
     "output_type": "display_data"
    }
   ],
   "source": [
    "print(df.columns)\n",
    "medications = df.loc[:,\"antidepressants\":\"nk3\"]\n",
    "medication_counts = medications[medications].sum().sort_values(ascending=False)\n",
    "\n",
    "sns.barplot(y=medication_counts.index, x=medication_counts.values, palette='pastel')\n",
    "plt.ylabel(\"medication\")"
   ]
  },
  {
   "cell_type": "code",
   "execution_count": 48,
   "metadata": {},
   "outputs": [
    {
     "data": {
      "image/png": "[encoded data removed]",
      "text/plain": [
       "<Figure size 1000x600 with 2 Axes>"
      ]
     },
     "metadata": {},
     "output_type": "display_data"
    }
   ],
   "source": [
    "med_columns = ['antidepressants',\n",
    "       'anticonvulsants', 'estradiol', 'progestin', 'nk3']\n",
    "\n",
    "# List of symptom columns\n",
    "symptom_columns = ['hot_flashes', 'night_sweats',\n",
    "       'sleep_disorder', 'depression', 'anxiety', 'mood_problems',\n",
    "       'sexual_problems', 'vaginal_dryness', 'aches_and_pains',\n",
    "       'skin_problems', 'bladder_control_problems', 'heavy/irregular_periods',\n",
    "       'brain_fog', 'weight_gain']\n",
    "\n",
    "# Create an empty DataFrame for heatmap data\n",
    "heatmap_data = pd.DataFrame(0, index=med_columns, columns=symptom_columns)\n",
    "\n",
    "for med_col in med_columns:\n",
    "    for symptom_col in symptom_columns:\n",
    "        heatmap_data.at[med_col,\n",
    "                        symptom_col] = df[df[med_col] == True][symptom_col].sum()\n",
    "\n",
    "plt.figure(figsize=(10, 6))\n",
    "\n",
    "sns.heatmap(heatmap_data, annot=True, cmap='Blues', fmt='g')\n",
    "plt.title('Heatmap of Symptoms by Medication Classification')\n",
    "plt.gcf().set_facecolor('#fff9f4')\n",
    "plt.savefig(\"reddit_heatmap.png\")"
   ]
  },
  {
   "cell_type": "code",
   "execution_count": 49,
   "metadata": {},
   "outputs": [
    {
     "name": "stdout",
     "output_type": "stream",
     "text": [
      "         id      author created_utc  \\\n",
      "719  9w0ndk  hangrycats  2018-11-10   \n",
      "\n",
      "                                             title  \\\n",
      "719  Gabapentin vs HRT vs oral birth control pills   \n",
      "\n",
      "                                              selftext  score  upvote_ratio  \\\n",
      "719  Hi, all.  I'm 48 and have been perimenopausal ...      2           NaN   \n",
      "\n",
      "     num_comments                                                url   age  \\\n",
      "719             8  https://www.reddit.com/r/Menopause/comments/9w...  48.0   \n",
      "\n",
      "     ...  brain_fog  weight_gain  hormone_therapy  antidepressants  \\\n",
      "719  ...      False        False             True            False   \n",
      "\n",
      "     anticonvulsants  estradiol  progestin    nk3  vitamins  exercise  \n",
      "719             True       True      False  False     False     False  \n",
      "\n",
      "[1 rows x 36 columns]\n",
      "366\n"
     ]
    }
   ],
   "source": [
    "print(df[df[\"id\"] == \"9w0ndk\"])\n",
    "print(len(df[(df[\"bladder_control_problems\"] == True)]))\n",
    "\n",
    "df.to_csv(\"processed_reddit.csv\")\n"
   ]
  },
  {
   "cell_type": "code",
   "execution_count": 50,
   "metadata": {},
   "outputs": [
    {
     "data": {
      "text/plain": [
       "229"
      ]
     },
     "execution_count": 50,
     "metadata": {},
     "output_type": "execute_result"
    }
   ],
   "source": [
    "len(df[(df[\"antidepressants\"]) & (df[\"hot_flashes\"])])"
   ]
  }
 ],
 "metadata": {
  "kernelspec": {
   "display_name": "webscraping_100l",
   "language": "python",
   "name": "python3"
  },
  "language_info": {
   "codemirror_mode": {
    "name": "ipython",
    "version": 3
   },
   "file_extension": ".py",
   "mimetype": "text/x-python",
   "name": "python",
   "nbconvert_exporter": "python",
   "pygments_lexer": "ipython3",
   "version": "3.12.5"
  }
 },
 "nbformat": 4,
 "nbformat_minor": 2
}
